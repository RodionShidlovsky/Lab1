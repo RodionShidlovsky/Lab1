{
  "nbformat": 4,
  "nbformat_minor": 0,
  "metadata": {
    "colab": {
      "provenance": [],
      "authorship_tag": "ABX9TyMvHgZr/fW2VbA/vtmiQPyO",
      "include_colab_link": true
    },
    "kernelspec": {
      "name": "python3",
      "display_name": "Python 3"
    },
    "language_info": {
      "name": "python"
    }
  },
  "cells": [
    {
      "cell_type": "markdown",
      "metadata": {
        "id": "view-in-github",
        "colab_type": "text"
      },
      "source": [
        "<a href=\"https://colab.research.google.com/github/RodionShidlovsky/Lab1/blob/main/Lab3.ipynb\" target=\"_parent\"><img src=\"https://colab.research.google.com/assets/colab-badge.svg\" alt=\"Open In Colab\"/></a>"
      ]
    },
    {
      "cell_type": "code",
      "source": [
        "def башня(n, a, b, c):\n",
        "    if n > 0:\n",
        "        башня(n-1, a, c, b)\n",
        "        print(f\"Переместите диск {n} с {a} на {b}\")\n",
        "        башня(n-1, c, b, a)\n",
        "\n",
        "n = int(input(\"Введите количество дисков: \"))\n",
        "башня(n, 'A', 'B', 'C')"
      ],
      "metadata": {
        "id": "ObCdmz1eGaCg"
      },
      "execution_count": null,
      "outputs": []
    },
    {
      "cell_type": "code",
      "source": [],
      "metadata": {
        "id": "yBKBt_Szd3B-"
      },
      "execution_count": null,
      "outputs": []
    }
  ]
}
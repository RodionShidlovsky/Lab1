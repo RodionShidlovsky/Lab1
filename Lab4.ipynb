{
  "nbformat": 4,
  "nbformat_minor": 0,
  "metadata": {
    "colab": {
      "provenance": [],
      "authorship_tag": "ABX9TyNmxEYEDB75suhS8SwYTp9t",
      "include_colab_link": true
    },
    "kernelspec": {
      "name": "python3",
      "display_name": "Python 3"
    },
    "language_info": {
      "name": "python"
    }
  },
  "cells": [
    {
      "cell_type": "markdown",
      "metadata": {
        "id": "view-in-github",
        "colab_type": "text"
      },
      "source": [
        "<a href=\"https://colab.research.google.com/github/RodionShidlovsky/Lab1/blob/main/Lab4.ipynb\" target=\"_parent\"><img src=\"https://colab.research.google.com/assets/colab-badge.svg\" alt=\"Open In Colab\"/></a>"
      ]
    },
    {
      "cell_type": "code",
      "source": [
        "import csv\n",
        "import json\n",
        "\n",
        "with open('import.csv', 'r', encoding='utf-8') as file:\n",
        "    reader = csv.DictReader(file)\n",
        "    rows = list(reader)\n",
        "\n",
        "json_data = json.dumps(rows, indent=4)\n",
        "\n",
        "with open('export.json', 'w') as f:\n",
        "    f.write(json_data)"
      ],
      "metadata": {
        "id": "hap5dJzDj-Up"
      },
      "execution_count": null,
      "outputs": []
    }
  ]
}
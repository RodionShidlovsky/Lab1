{
  "nbformat": 4,
  "nbformat_minor": 0,
  "metadata": {
    "colab": {
      "provenance": [],
      "authorship_tag": "ABX9TyMG1/XuACRkK5NvvFD19biy",
      "include_colab_link": true
    },
    "kernelspec": {
      "name": "python3",
      "display_name": "Python 3"
    },
    "language_info": {
      "name": "python"
    }
  },
  "cells": [
    {
      "cell_type": "markdown",
      "metadata": {
        "id": "view-in-github",
        "colab_type": "text"
      },
      "source": [
        "<a href=\"https://colab.research.google.com/github/RodionShidlovsky/Lab1/blob/main/Lab2.ipynb\" target=\"_parent\"><img src=\"https://colab.research.google.com/assets/colab-badge.svg\" alt=\"Open In Colab\"/></a>"
      ]
    },
    {
      "cell_type": "code",
      "source": [
        "list = [[\"milk\", 0, 0],[\"bread\", 0, 0],[\"cake\", 0, 0]]\n",
        "\n",
        "for item in list:\n",
        " item[1] = int(input(f\"Введите стоимость {item[0]} в магазине пятерочка \"))\n",
        " item[2] = int(input(f\"Введите стоимость {item[0]} в магазине магнит \"))\n",
        "\n",
        "pyaterochka_sum = sum([sublist[1] for sublist in list])\n",
        "print(f\"сумма покупок в магазине пятерочка составляет {pyaterochka_sum}\")\n",
        "\n",
        "magnit_sum = sum([sublist[2] for sublist in list])\n",
        "print(f\"сумма покупок в магазине магнит составляет    {magnit_sum}\")\n",
        "\n",
        "if pyaterochka_sum > magnit_sum:\n",
        "  print(f\"совершив покупки в магните, вы сэкономите {pyaterochka_sum - magnit_sum}\")\n",
        "elif pyaterochka_sum < magnit_sum:\n",
        "  print(f\"совершив покупки в пятерочке, вы сэкономите {magnit_sum - pyaterochka_sum}\")\n",
        "else:\n",
        "  print(\"стоимость покупок в пяторочке и магните одинакова\")"
      ],
      "metadata": {
        "colab": {
          "base_uri": "https://localhost:8080/"
        },
        "id": "rJ1mUjCcQXOY",
        "outputId": "92691684-781f-47e6-e061-de3ca030f584"
      },
      "execution_count": 60,
      "outputs": [
        {
          "output_type": "stream",
          "name": "stdout",
          "text": [
            "Введите стоимость milk в магазине пятерочка 100\n",
            "Введите стоимость milk в магазине магнит 200\n",
            "Введите стоимость bread в магазине пятерочка 10\n",
            "Введите стоимость bread в магазине магнит 20\n",
            "Введите стоимость cake в магазине пятерочка 150\n",
            "Введите стоимость cake в магазине магнит 250\n",
            "сумма покупок в магазине пятерочка составляет 260\n",
            "сумма покупок в магазине магнит составляет    470\n",
            "совершив покупки в пятерочке, вы сэкономите 210\n"
          ]
        }
      ]
    }
  ]
}